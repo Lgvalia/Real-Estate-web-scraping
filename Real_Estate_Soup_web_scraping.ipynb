{
  "nbformat": 4,
  "nbformat_minor": 0,
  "metadata": {
    "colab": {
      "provenance": [],
      "mount_file_id": "1zDhPG893U-8QWdf0OlSSKHFzFOWggUVE",
      "authorship_tag": "ABX9TyPQOyMCjuTwNLi3ldKGw31h",
      "include_colab_link": true
    },
    "kernelspec": {
      "name": "python3",
      "display_name": "Python 3"
    },
    "language_info": {
      "name": "python"
    }
  },
  "cells": [
    {
      "cell_type": "markdown",
      "metadata": {
        "id": "view-in-github",
        "colab_type": "text"
      },
      "source": [
        "<a href=\"https://colab.research.google.com/github/Lgvalia/Real-Estate-web-scraping/blob/main/Real_Estate_Soup_web_scraping.ipynb\" target=\"_parent\"><img src=\"https://colab.research.google.com/assets/colab-badge.svg\" alt=\"Open In Colab\"/></a>"
      ]
    },
    {
      "cell_type": "code",
      "metadata": {
        "id": "XBCJQMo26unK"
      },
      "source": [
        "import pandas as pd\n",
        "import numpy as np\n",
        "import requests\n",
        "from bs4 import BeautifulSoup"
      ],
      "execution_count": null,
      "outputs": []
    },
    {
      "cell_type": "markdown",
      "metadata": {
        "id": "ROfPqs5C_Gi5"
      },
      "source": [
        "# NBG"
      ]
    },
    {
      "cell_type": "code",
      "metadata": {
        "id": "aFWiyml1Nr5G"
      },
      "source": [
        "nbg_url= 'https://nbg.gov.ge/monetary-policy/currency'\n",
        "nbg_page = requests.get(nbg_url)\n",
        "nbg_soup = BeautifulSoup(nbg_page.content,'html.parser')\n",
        "\n",
        "rates = nbg_soup.find_all('span',{'text-body1 font-normal font-md leading-body1 text-grey-800'})\n",
        "\n",
        "usd_rate = float(rates[-6].get_text())"
      ],
      "execution_count": null,
      "outputs": []
    },
    {
      "cell_type": "markdown",
      "metadata": {
        "id": "jIF9CEeU_JVQ"
      },
      "source": [
        "# Anagi"
      ]
    },
    {
      "cell_type": "code",
      "metadata": {
        "id": "YI15ca_pMESb"
      },
      "source": [
        "df = pd.DataFrame(columns=['flat_no','project_name','block_no','floor','area','room_count','total_price'])\n",
        "\n",
        "for x in range(5):\n",
        "  url = 'https://ad.ge/ka/results/any/0/0/any/any/{}'.format(x+1)\n",
        "\n",
        "  page = requests.get(url)\n",
        "  soup = BeautifulSoup(page.content,'html.parser')\n",
        "\n",
        "  results_container = soup.find('div',{'class':'results-container'})\n",
        "\n",
        "  flats = list(results_container.find_all('h2'))\n",
        "  all = list(results_container.find_all('a'))\n",
        "\n",
        "  room_count = x+1\n",
        "\n",
        "  for i,x in zip(flats,range(len(all))):\n",
        "    try:\n",
        "      project_name = results_container.find_all('a')[x].find_all('span',{'class':'bold'})[0].get_text()\n",
        "      block = results_container.find_all('a')[x].find_all('span',{'class':'bold'})[1].get_text()\n",
        "      floor = results_container.find_all('a')[x].find_all('span',{'class':'bold'})[2].get_text()\n",
        "      area = results_container.find_all('a')[x].find_all('span',{'class':'bold'})[3].get_text()\n",
        "      price = results_container.find_all('a')[x].find_all('span',{'class':'bold'})[4].get_text()\n",
        "      flat_no = i.get_text()\n",
        "\n",
        "      df = df.append({'flat_no':flat_no,'project_name':project_name,'block_no':block,'floor':floor,'area':area,'room_count':room_count,'total_price':price},ignore_index=True)\n",
        "      #print(project_name,'; block: ',block,'; floor:',floor,'; area:',area,'; price:',price)\n",
        "    except:\n",
        "      pass\n",
        "\n",
        "df['total_price'] = pd.to_numeric(df['total_price'].str[:-2].str.replace('.',''))\n",
        "df['area'] = pd.to_numeric(df['area'].str[:-2])\n",
        "\n",
        "df['sqr_m_price'] = df['total_price']/df['area']"
      ],
      "execution_count": null,
      "outputs": []
    },
    {
      "cell_type": "code",
      "metadata": {
        "id": "zC-Y16sYN4RD"
      },
      "source": [
        "df['total_price_usd'] = df['total_price']/usd_rate\n",
        "df['sqr_m_price_usd'] = df['sqr_m_price']/usd_rate"
      ],
      "execution_count": null,
      "outputs": []
    },
    {
      "cell_type": "code",
      "metadata": {
        "colab": {
          "base_uri": "https://localhost:8080/",
          "height": 313
        },
        "id": "2svLtbEP-rTs",
        "outputId": "e46456a0-d50e-4987-cafb-c0630e31ab1f"
      },
      "source": [
        "df.head()"
      ],
      "execution_count": null,
      "outputs": [
        {
          "output_type": "execute_result",
          "data": {
            "text/html": [
              "<div>\n",
              "<style scoped>\n",
              "    .dataframe tbody tr th:only-of-type {\n",
              "        vertical-align: middle;\n",
              "    }\n",
              "\n",
              "    .dataframe tbody tr th {\n",
              "        vertical-align: top;\n",
              "    }\n",
              "\n",
              "    .dataframe thead th {\n",
              "        text-align: right;\n",
              "    }\n",
              "</style>\n",
              "<table border=\"1\" class=\"dataframe\">\n",
              "  <thead>\n",
              "    <tr style=\"text-align: right;\">\n",
              "      <th></th>\n",
              "      <th>flat_no</th>\n",
              "      <th>project_name</th>\n",
              "      <th>block_no</th>\n",
              "      <th>floor</th>\n",
              "      <th>area</th>\n",
              "      <th>room_count</th>\n",
              "      <th>total_price</th>\n",
              "      <th>sqr_m_price</th>\n",
              "      <th>total_price_usd</th>\n",
              "      <th>sqr_m_price_usd</th>\n",
              "    </tr>\n",
              "  </thead>\n",
              "  <tbody>\n",
              "    <tr>\n",
              "      <th>0</th>\n",
              "      <td>ბინა 806</td>\n",
              "      <td>სი ჰოუმ ბათუმი</td>\n",
              "      <td>Sea Home</td>\n",
              "      <td>8</td>\n",
              "      <td>49.0</td>\n",
              "      <td>1</td>\n",
              "      <td>220125</td>\n",
              "      <td>4492.346939</td>\n",
              "      <td>70078.953233</td>\n",
              "      <td>1430.182719</td>\n",
              "    </tr>\n",
              "    <tr>\n",
              "      <th>1</th>\n",
              "      <td>ბინა 1106</td>\n",
              "      <td>სი ჰოუმ ბათუმი</td>\n",
              "      <td>Sea Home</td>\n",
              "      <td>11</td>\n",
              "      <td>49.0</td>\n",
              "      <td>1</td>\n",
              "      <td>226128</td>\n",
              "      <td>4614.857143</td>\n",
              "      <td>71990.067174</td>\n",
              "      <td>1469.185044</td>\n",
              "    </tr>\n",
              "    <tr>\n",
              "      <th>2</th>\n",
              "      <td>ბინა 1306</td>\n",
              "      <td>სი ჰოუმ ბათუმი</td>\n",
              "      <td>Sea Home</td>\n",
              "      <td>13</td>\n",
              "      <td>49.0</td>\n",
              "      <td>1</td>\n",
              "      <td>230133</td>\n",
              "      <td>4696.591837</td>\n",
              "      <td>73265.098214</td>\n",
              "      <td>1495.206086</td>\n",
              "    </tr>\n",
              "    <tr>\n",
              "      <th>3</th>\n",
              "      <td>ბინა 1406</td>\n",
              "      <td>სი ჰოუმ ბათუმი</td>\n",
              "      <td>Sea Home</td>\n",
              "      <td>14</td>\n",
              "      <td>49.0</td>\n",
              "      <td>1</td>\n",
              "      <td>232134</td>\n",
              "      <td>4737.428571</td>\n",
              "      <td>73902.136194</td>\n",
              "      <td>1508.206861</td>\n",
              "    </tr>\n",
              "    <tr>\n",
              "      <th>4</th>\n",
              "      <td>ბინა 1506</td>\n",
              "      <td>სი ჰოუმ ბათუმი</td>\n",
              "      <td>Sea Home</td>\n",
              "      <td>15</td>\n",
              "      <td>49.0</td>\n",
              "      <td>1</td>\n",
              "      <td>234134</td>\n",
              "      <td>4778.244898</td>\n",
              "      <td>74538.855815</td>\n",
              "      <td>1521.201139</td>\n",
              "    </tr>\n",
              "  </tbody>\n",
              "</table>\n",
              "</div>"
            ],
            "text/plain": [
              "     flat_no    project_name  ... total_price_usd sqr_m_price_usd\n",
              "0   ბინა 806  სი ჰოუმ ბათუმი  ...    70078.953233     1430.182719\n",
              "1  ბინა 1106  სი ჰოუმ ბათუმი  ...    71990.067174     1469.185044\n",
              "2  ბინა 1306  სი ჰოუმ ბათუმი  ...    73265.098214     1495.206086\n",
              "3  ბინა 1406  სი ჰოუმ ბათუმი  ...    73902.136194     1508.206861\n",
              "4  ბინა 1506  სი ჰოუმ ბათუმი  ...    74538.855815     1521.201139\n",
              "\n",
              "[5 rows x 10 columns]"
            ]
          },
          "metadata": {},
          "execution_count": 106
        }
      ]
    },
    {
      "cell_type": "code",
      "metadata": {
        "id": "82yu2Mq954sj"
      },
      "source": [
        "df.to_excel('/content/drive/MyDrive/GreenHill/Web Scraping/Anagi.xlsx')"
      ],
      "execution_count": null,
      "outputs": []
    },
    {
      "cell_type": "code",
      "metadata": {
        "colab": {
          "base_uri": "https://localhost:8080/"
        },
        "id": "6ieYBzsxKV81",
        "outputId": "35de8e3a-d43d-44ab-a831-2f40ee57fe0c"
      },
      "source": [
        "projects = df['project_name'].unique().tolist()\n",
        "for x in projects:\n",
        "  print(x)\n",
        "  print(df[df['project_name']==x][['area','total_price_usd','sqr_m_price_usd']].describe())\n"
      ],
      "execution_count": null,
      "outputs": [
        {
          "output_type": "stream",
          "name": "stdout",
          "text": [
            "სი ჰოუმ ბათუმი\n",
            "            area  total_price_usd  sqr_m_price_usd\n",
            "count  50.000000        50.000000        50.000000\n",
            "mean   50.716000     92285.244023      1831.829993\n",
            "std     4.157381     10450.250255       261.619609\n",
            "min    42.500000     70078.953233      1430.182719\n",
            "25%    46.000000     85200.885040      1607.563869\n",
            "50%    53.000000     94128.967559      1771.959368\n",
            "75%    53.000000     99598.468689      2038.302146\n",
            "max    56.500000    109073.891312      2336.235343\n",
            "პარკ ჰოუმ საბურთალო\n",
            "             area  total_price_usd  sqr_m_price_usd\n",
            "count  111.000000       111.000000       111.000000\n",
            "mean    77.794595    122996.583225      1580.441629\n",
            "std     33.666311     54025.990221        60.648431\n",
            "min     42.600000     61485.148515      1443.294406\n",
            "25%     46.300000     73188.373500      1539.507298\n",
            "50%     80.400000    124635.955557      1587.597746\n",
            "75%     99.800000    159881.570151      1625.102266\n",
            "max    142.200000    242479.067842      1705.197383\n",
            "პარკ ჰოუმ ვაკე\n",
            "             area  total_price_usd  sqr_m_price_usd\n",
            "count   27.000000        27.000000        27.000000\n",
            "mean   114.833333    215348.008541      1859.612149\n",
            "std     41.218760     84970.715682        76.059764\n",
            "min     75.600000    138152.876381      1724.999721\n",
            "25%     77.700000    145881.060775      1817.198931\n",
            "50%     94.800000    178129.954475      1855.007335\n",
            "75%    127.350000    229754.067047      1902.500520\n",
            "max    198.000000    391049.950654      1975.101972\n"
          ]
        }
      ]
    },
    {
      "cell_type": "markdown",
      "metadata": {
        "id": "RsjunQFQ_PE3"
      },
      "source": [
        "# Gardens"
      ]
    },
    {
      "cell_type": "code",
      "metadata": {
        "colab": {
          "base_uri": "https://localhost:8080/"
        },
        "id": "j0k9qWpB_RBW",
        "outputId": "2aa9b7af-1dda-45df-ff9f-85699feae09b"
      },
      "source": [
        "url_gardens = 'https://tbilisigardens.ge/bina#6'\n",
        "page_gardens = requests.get(url_gardens)\n",
        "\n",
        "soup_gardens =  BeautifulSoup(page_gardens.content,'html.parser')\n",
        "view_container_gardens = soup_gardens.find('div',{'id':'view-container'})\n",
        "print(view_container_gardens.prettify())\n",
        "select_floor = soup_gardens.find({'id':'same-type-on-other-floor-selector'})\n",
        "print(select_floor)"
      ],
      "execution_count": null,
      "outputs": [
        {
          "output_type": "stream",
          "name": "stdout",
          "text": [
            "<div id=\"view-container\">\n",
            " <div class=\"view\" minus-header-height=\"\" ng-class=\"{'scrollable' : scrollBarHandler.isScrollable}\" ng-view=\"\">\n",
            " </div>\n",
            "</div>\n",
            "\n",
            "None\n"
          ]
        }
      ]
    },
    {
      "cell_type": "code",
      "metadata": {
        "id": "KNxKttO4_W-Z"
      },
      "source": [
        "df = pd.DataFrame(columns=['flat_no','project_name','block_no','floor','area','room_count','total_price'])\n",
        "\n",
        "for x in range(5):\n",
        "  url = 'https://ad.ge/ka/results/any/0/0/any/any/{}'.format(x+1)\n",
        "\n",
        "  page = requests.get(url)\n",
        "  soup = BeautifulSoup(page.content,'html.parser')\n",
        "\n",
        "  results_container = soup.find('div',{'class':'results-container'})\n",
        "\n",
        "  flats = list(results_container.find_all('h2'))\n",
        "  all = list(results_container.find_all('a'))\n",
        "\n",
        "  room_count = x+1\n",
        "\n",
        "  for i,x in zip(flats,range(len(all))):\n",
        "    try:\n",
        "      project_name = results_container.find_all('a')[x].find_all('span',{'class':'bold'})[0].get_text()\n",
        "      block = results_container.find_all('a')[x].find_all('span',{'class':'bold'})[1].get_text()\n",
        "      floor = results_container.find_all('a')[x].find_all('span',{'class':'bold'})[2].get_text()\n",
        "      area = results_container.find_all('a')[x].find_all('span',{'class':'bold'})[3].get_text()\n",
        "      price = results_container.find_all('a')[x].find_all('span',{'class':'bold'})[4].get_text()\n",
        "      flat_no = i.get_text()\n",
        "\n",
        "      df = df.append({'flat_no':flat_no,'project_name':project_name,'block_no':block,'floor':floor,'area':area,'room_count':room_count,'total_price':price},ignore_index=True)\n",
        "      #print(project_name,'; block: ',block,'; floor:',floor,'; area:',area,'; price:',price)\n",
        "    except:\n",
        "      pass\n",
        "\n",
        "df['total_price'] = pd.to_numeric(df['total_price'].str[:-2].str.replace('.',''))\n",
        "df['area'] = pd.to_numeric(df['area'].str[:-2])\n",
        "\n",
        "df['sqr_m_price'] = df['total_price']/df['area']"
      ],
      "execution_count": null,
      "outputs": []
    }
  ]
}